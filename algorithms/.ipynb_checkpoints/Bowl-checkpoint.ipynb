{
 "cells": [
  {
   "cell_type": "code",
   "execution_count": 1,
   "metadata": {
    "collapsed": true,
    "deletable": true,
    "editable": true
   },
   "outputs": [],
   "source": [
    "from collections import Counter\n",
    "from multiprocessing import Pool, cpu_count\n",
    "import random\n",
    "import string\n",
    "import timeit\n",
    "import os\n",
    "import numpy as np\n",
    "import matplotlib.pyplot as plt\n",
    "\n",
    "%matplotlib inline"
   ]
  },
  {
   "cell_type": "code",
   "execution_count": 2,
   "metadata": {
    "collapsed": true,
    "deletable": true,
    "editable": true
   },
   "outputs": [],
   "source": [
    "def get_str(n):\n",
    "    \"\"\" https://stackoverflow.com/questions/16308989/fastest-method-to-generate-big-random-string-with-lower-latin-letters \"\"\"\n",
    "    min_lc = ord(b'a')\n",
    "    len_lc = 26\n",
    "    ba = bytearray(os.urandom(n))\n",
    "    for i, b in enumerate(ba):\n",
    "        ba[i] = min_lc + b % len_lc # convert 0..255 to 97..122\n",
    "    return ba.decode(\"utf-8\")\n",
    "\n",
    "def benchmark_range(searcher, bowl, range_, printfreq=100):\n",
    "    times = []\n",
    "    last = 0\n",
    "    \n",
    "    for i in range_:\n",
    "        message = get_str(i)\n",
    "        start_time = timeit.default_timer()\n",
    "        result = searcher.search(message)\n",
    "        elapsed = timeit.default_timer() - start_time\n",
    "        \n",
    "        if i // printfreq > last:\n",
    "            last = i // printfreq\n",
    "            print(\"{}(N={}, M={}) returned {} in {:f} seconds\".format(\n",
    "            searcher.__class__.__name__, len(message), len(bowl), result, elapsed))\n",
    "    \n",
    "        times.append(elapsed)\n",
    "        \n",
    "    return times\n",
    "\n",
    "def chunks(l, n):\n",
    "    \"\"\"Yield successive n-sized chunks from l.\n",
    "    https://stackoverflow.com/questions/312443/how-do-you-split-a-list-into-evenly-sized-chunks\"\"\"\n",
    "    for i in range(0, len(l), n):\n",
    "        yield l[i:i + n]\n",
    "        \n",
    "def normalize(arr):\n",
    "    arr = np.array(arr)\n",
    "    return (arr-min(arr))/(max(arr)-min(arr))\n",
    "\n",
    "def countfn(x):\n",
    "    return Counter(x)\n",
    "        "
   ]
  },
  {
   "cell_type": "code",
   "execution_count": 6,
   "metadata": {
    "collapsed": true,
    "deletable": true,
    "editable": true
   },
   "outputs": [],
   "source": [
    "class Searcher:\n",
    "\n",
    "    def __init__(self, bowl):\n",
    "        self.bowl = bowl\n",
    "\n",
    "    def preprocess(self):\n",
    "        pass\n",
    "\n",
    "    def search(self):\n",
    "        pass\n",
    "\n",
    "class NaiveSearcher(Searcher):\n",
    "\n",
    "    def search(self, message):\n",
    "        already_picked = []\n",
    "\n",
    "        def findletter_naive(l):\n",
    "            for idx,i in enumerate(self.bowl):\n",
    "                if i == l and idx not in already_picked:\n",
    "                    already_picked.append(idx)\n",
    "                    return True\n",
    "            else:\n",
    "                return False\n",
    "\n",
    "        return all(findletter_naive(i) for i in message)\n",
    "\n",
    "class CounterSearcher(Searcher):\n",
    "    \n",
    "    def __init__(self, bowl):\n",
    "        super(CounterSearcher, self).__init__(bowl)\n",
    "        self.counts = Counter(self.bowl)\n",
    "        \n",
    "    def search(self, message):\n",
    "        found = Counter()\n",
    "\n",
    "        for letter in message:\n",
    "            letters_in_bowl = self.counts[letter]\n",
    "            if letters_in_bowl > found[letter]:\n",
    "                found[letter] += 1\n",
    "            else:\n",
    "                return False\n",
    "\n",
    "        return True\n",
    "    \n",
    "class CounterSearcherNoPreprocess(CounterSearcher):\n",
    "\n",
    "    def search(self, message):\n",
    "        self.counts = Counter(self.bowl)\n",
    "        return super(CounterSearcherNoPreprocess, self).search(message)\n",
    "    \n",
    "class CounterSearcherParalell(CounterSearcher):\n",
    "\n",
    "    def __init__(self, bowl):\n",
    "        super(CounterSearcherParalell, self).__init__(bowl)\n",
    "        self.pool = Pool(cpu_count())\n",
    "\n",
    "    def search(self, message):\n",
    "\n",
    "        chunk_size = len(self.bowl) // cpu_count()\n",
    "\n",
    "        #map\n",
    "        parts = self.pool.map(countfn, list(chunks(self.bowl, chunk_size)))\n",
    "        self.counts = None\n",
    "        \n",
    "        #reduce\n",
    "        for p in parts:\n",
    "            if self.counts == None:\n",
    "                self.counts = p\n",
    "            else:\n",
    "                self.counts += p\n",
    "                \n",
    "        return super(CounterSearcherParalell, self).search(message)\n",
    "    \n",
    "class RandomSearcher(Searcher):\n",
    "    \n",
    "    def search(self, message):\n",
    "        already_picked = []\n",
    "\n",
    "        def findletter_random(l):\n",
    "            start = np.random.choice(len(self.bowl))\n",
    "            for idx, i in enumerate(self.bowl[start: len(self.bowl)]):\n",
    "                if i == l and idx+start not in already_picked:\n",
    "                    already_picked.append(idx+start)\n",
    "                    return True\n",
    "            for idx, i in enumerate(self.bowl[0: start]):\n",
    "                if i == l and idx not in already_picked:\n",
    "                    already_picked.append(idx)\n",
    "                    return True\n",
    "            return False\n",
    "        \n",
    "        return all(findletter_random(i) for i in message)\n",
    "    "
   ]
  },
  {
   "cell_type": "code",
   "execution_count": 7,
   "metadata": {
    "collapsed": false,
    "deletable": true,
    "editable": true
   },
   "outputs": [
    {
     "name": "stdout",
     "output_type": "stream",
     "text": [
      "NaiveSearcher(N=121, M=1000000) returned True in 0.001904 seconds\n",
      "NaiveSearcher(N=211, M=1000000) returned True in 0.009308 seconds\n",
      "NaiveSearcher(N=301, M=1000000) returned True in 0.012678 seconds\n",
      "NaiveSearcher(N=421, M=1000000) returned True in 0.027250 seconds\n",
      "NaiveSearcher(N=511, M=1000000) returned True in 0.046999 seconds\n",
      "NaiveSearcher(N=601, M=1000000) returned True in 0.084770 seconds\n",
      "NaiveSearcher(N=721, M=1000000) returned True in 0.107892 seconds\n",
      "NaiveSearcher(N=811, M=1000000) returned True in 0.148850 seconds\n",
      "NaiveSearcher(N=901, M=1000000) returned True in 0.239214 seconds\n",
      "CounterSearcher(N=31, M=1000000) returned True in 0.000057 seconds\n",
      "CounterSearcher(N=61, M=1000000) returned True in 0.000093 seconds\n",
      "CounterSearcher(N=91, M=1000000) returned True in 0.000125 seconds\n",
      "CounterSearcher(N=121, M=1000000) returned True in 0.000158 seconds\n",
      "CounterSearcher(N=151, M=1000000) returned True in 0.000190 seconds\n",
      "CounterSearcher(N=181, M=1000000) returned True in 0.000223 seconds\n",
      "CounterSearcher(N=211, M=1000000) returned True in 0.000253 seconds\n",
      "CounterSearcher(N=241, M=1000000) returned True in 0.000286 seconds\n",
      "CounterSearcher(N=271, M=1000000) returned True in 0.000316 seconds\n",
      "CounterSearcher(N=301, M=1000000) returned True in 0.000349 seconds\n",
      "CounterSearcher(N=331, M=1000000) returned True in 0.000379 seconds\n",
      "CounterSearcher(N=361, M=1000000) returned True in 0.000413 seconds\n",
      "CounterSearcher(N=391, M=1000000) returned True in 0.000448 seconds\n",
      "CounterSearcher(N=421, M=1000000) returned True in 0.000486 seconds\n",
      "CounterSearcher(N=451, M=1000000) returned True in 0.000510 seconds\n",
      "CounterSearcher(N=481, M=1000000) returned True in 0.000550 seconds\n",
      "CounterSearcher(N=511, M=1000000) returned True in 0.000571 seconds\n",
      "CounterSearcher(N=541, M=1000000) returned True in 0.000603 seconds\n",
      "CounterSearcher(N=571, M=1000000) returned True in 0.000631 seconds\n",
      "CounterSearcher(N=601, M=1000000) returned True in 0.000663 seconds\n",
      "CounterSearcher(N=631, M=1000000) returned True in 0.000697 seconds\n",
      "CounterSearcher(N=661, M=1000000) returned True in 0.000725 seconds\n",
      "CounterSearcher(N=691, M=1000000) returned True in 0.000762 seconds\n",
      "CounterSearcher(N=721, M=1000000) returned True in 0.000794 seconds\n",
      "CounterSearcher(N=751, M=1000000) returned True in 0.000830 seconds\n",
      "CounterSearcher(N=781, M=1000000) returned True in 0.000855 seconds\n",
      "CounterSearcher(N=811, M=1000000) returned True in 0.000886 seconds\n",
      "CounterSearcher(N=841, M=1000000) returned True in 0.000917 seconds\n",
      "CounterSearcher(N=871, M=1000000) returned True in 0.000951 seconds\n",
      "CounterSearcher(N=901, M=1000000) returned True in 0.000988 seconds\n",
      "CounterSearcher(N=931, M=1000000) returned True in 0.001017 seconds\n",
      "CounterSearcher(N=961, M=1000000) returned True in 0.001048 seconds\n",
      "CounterSearcher(N=991, M=1000000) returned True in 0.001083 seconds\n",
      "CounterSearcherNoPreprocess(N=121, M=1000000) returned True in 0.094645 seconds\n",
      "CounterSearcherNoPreprocess(N=211, M=1000000) returned True in 0.093628 seconds\n",
      "CounterSearcherNoPreprocess(N=301, M=1000000) returned True in 0.094402 seconds\n",
      "CounterSearcherNoPreprocess(N=421, M=1000000) returned True in 0.097480 seconds\n",
      "CounterSearcherNoPreprocess(N=511, M=1000000) returned True in 0.160379 seconds\n",
      "CounterSearcherNoPreprocess(N=601, M=1000000) returned True in 0.095800 seconds\n",
      "CounterSearcherNoPreprocess(N=721, M=1000000) returned True in 0.095710 seconds\n",
      "CounterSearcherNoPreprocess(N=811, M=1000000) returned True in 0.112999 seconds\n",
      "CounterSearcherNoPreprocess(N=901, M=1000000) returned True in 0.096533 seconds\n",
      "CounterSearcherParalell(N=121, M=1000000) returned True in 0.108627 seconds\n",
      "CounterSearcherParalell(N=211, M=1000000) returned True in 0.112893 seconds\n",
      "CounterSearcherParalell(N=301, M=1000000) returned True in 0.111047 seconds\n",
      "CounterSearcherParalell(N=421, M=1000000) returned True in 0.563047 seconds\n",
      "CounterSearcherParalell(N=511, M=1000000) returned True in 0.707671 seconds\n",
      "CounterSearcherParalell(N=601, M=1000000) returned True in 0.657786 seconds\n",
      "CounterSearcherParalell(N=721, M=1000000) returned True in 1.238562 seconds\n",
      "CounterSearcherParalell(N=811, M=1000000) returned True in 3.027647 seconds\n",
      "CounterSearcherParalell(N=901, M=1000000) returned True in 1.417797 seconds\n",
      "RandomSearcher(N=31, M=1000000) returned True in 0.003345 seconds\n",
      "RandomSearcher(N=61, M=1000000) returned True in 0.006899 seconds\n",
      "RandomSearcher(N=91, M=1000000) returned True in 0.009910 seconds\n",
      "RandomSearcher(N=121, M=1000000) returned True in 0.010871 seconds\n",
      "RandomSearcher(N=151, M=1000000) returned True in 0.011951 seconds\n",
      "RandomSearcher(N=181, M=1000000) returned True in 0.019742 seconds\n",
      "RandomSearcher(N=211, M=1000000) returned True in 0.017941 seconds\n",
      "RandomSearcher(N=241, M=1000000) returned True in 0.023939 seconds\n",
      "RandomSearcher(N=271, M=1000000) returned True in 0.022364 seconds\n",
      "RandomSearcher(N=301, M=1000000) returned True in 0.027421 seconds\n",
      "RandomSearcher(N=331, M=1000000) returned True in 0.034202 seconds\n",
      "RandomSearcher(N=361, M=1000000) returned True in 0.035166 seconds\n",
      "RandomSearcher(N=391, M=1000000) returned True in 0.036634 seconds\n",
      "RandomSearcher(N=421, M=1000000) returned True in 0.040855 seconds\n",
      "RandomSearcher(N=451, M=1000000) returned True in 0.046195 seconds\n",
      "RandomSearcher(N=481, M=1000000) returned True in 0.044453 seconds\n",
      "RandomSearcher(N=511, M=1000000) returned True in 0.049418 seconds\n",
      "RandomSearcher(N=541, M=1000000) returned True in 0.061635 seconds\n",
      "RandomSearcher(N=571, M=1000000) returned True in 0.065857 seconds\n",
      "RandomSearcher(N=601, M=1000000) returned True in 0.066477 seconds\n",
      "RandomSearcher(N=631, M=1000000) returned True in 0.068991 seconds\n",
      "RandomSearcher(N=661, M=1000000) returned True in 0.070881 seconds\n",
      "RandomSearcher(N=691, M=1000000) returned True in 0.079456 seconds\n",
      "RandomSearcher(N=721, M=1000000) returned True in 0.070226 seconds\n",
      "RandomSearcher(N=751, M=1000000) returned True in 0.072630 seconds\n",
      "RandomSearcher(N=781, M=1000000) returned True in 0.080312 seconds\n",
      "RandomSearcher(N=811, M=1000000) returned True in 0.113972 seconds\n",
      "RandomSearcher(N=841, M=1000000) returned True in 0.087691 seconds\n",
      "RandomSearcher(N=871, M=1000000) returned True in 0.089913 seconds\n",
      "RandomSearcher(N=901, M=1000000) returned True in 0.093814 seconds\n",
      "RandomSearcher(N=931, M=1000000) returned True in 0.098721 seconds\n",
      "RandomSearcher(N=961, M=1000000) returned True in 0.102399 seconds\n",
      "RandomSearcher(N=991, M=1000000) returned True in 0.106716 seconds\n"
     ]
    }
   ],
   "source": [
    "bowl = get_str(1000000)\n",
    "\n",
    "naive = NaiveSearcher(bowl)    \n",
    "naive_times = benchmark_range(naive, bowl, range(1,1000,10))\n",
    "\n",
    "counter = CounterSearcher(bowl)\n",
    "counter_times = benchmark_range(counter, bowl, range(1,1000,10))\n",
    "\n",
    "counter_pre = CounterSearcherNoPreprocess(bowl)\n",
    "counter_pre_times = benchmark_range(counter_pre, bowl, range(1,1000,10))\n",
    "\n",
    "counter_paralell = CounterSearcherParalell(bowl)\n",
    "counter_paralell_times = benchmark_range(counter_paralell, bowl, range(1,1000,10))\n",
    "\n",
    "random = RandomSearcher(bowl)\n",
    "random_times = benchmark_range(random, bowl, range(1,1000,10))"
   ]
  },
  {
   "cell_type": "code",
   "execution_count": 5,
   "metadata": {
    "collapsed": false,
    "deletable": true,
    "editable": true
   },
   "outputs": [
    {
     "data": {
      "text/plain": [
       "[<matplotlib.lines.Line2D at 0x7f7e8868e470>]"
      ]
     },
     "execution_count": 5,
     "metadata": {},
     "output_type": "execute_result"
    },
    {
     "data": {
      "image/png": "[encoded data removed]",
      "text/plain": [
       "<matplotlib.figure.Figure at 0x7f7e89809b70>"
      ]
     },
     "metadata": {},
     "output_type": "display_data"
    }
   ],
   "source": [
    "plt.plot(naive_times)\n",
    "plt.plot(counter_times)\n",
    "plt.plot(counter_pre_times)\n",
    "plt.plot(counter_paralell_times)\n",
    "plt.plot(random_times)"
   ]
  },
  {
   "cell_type": "code",
   "execution_count": null,
   "metadata": {
    "collapsed": true,
    "deletable": true,
    "editable": true
   },
   "outputs": [],
   "source": [
    "bowl = get_str(1000000)\n",
    "\n",
    "naive = NaiveSearcher(bowl)    \n",
    "naive_times = benchmark_range(naive, bowl, range(1,1000,30))\n",
    "\n",
    "counter = HashTableSearcher(bowl)\n",
    "counter_times = benchmark_range(counter, bowl, range(1,2500,10), 70)\n",
    "\n",
    "counter_pre = HashTableSearcherNoPreprocess(bowl)\n",
    "counter_pre_times = benchmark_range(counter_pre, bowl, range(1,1000,30))\n",
    "\n",
    "random = RandomSearcher(bowl)\n",
    "random_times = benchmark_range(random, bowl, range(1,2500,10), 70)"
   ]
  },
  {
   "cell_type": "code",
   "execution_count": 181,
   "metadata": {
    "collapsed": false,
    "deletable": true,
    "editable": true
   },
   "outputs": [
    {
     "data": {
      "text/plain": [
       "[<matplotlib.lines.Line2D at 0x7fa000ff89e8>]"
      ]
     },
     "execution_count": 181,
     "metadata": {},
     "output_type": "execute_result"
    },
    {
     "data": {
      "image/png": "[encoded data removed]",
      "text/plain": [
       "<matplotlib.figure.Figure at 0x7fa000ff8828>"
      ]
     },
     "metadata": {},
     "output_type": "display_data"
    }
   ],
   "source": [
    "poly = np.polyfit([x for x, _ in enumerate(naive_times)], naive_times, 2)\n",
    "poly[1] = 0\n",
    "poly[2] = 0\n",
    "plt.plot([np.polyval(poly, x) for x in range(40)])\n",
    "plt.plot(naive_times)"
   ]
  },
  {
   "cell_type": "code",
   "execution_count": 182,
   "metadata": {
    "collapsed": false,
    "deletable": true,
    "editable": true
   },
   "outputs": [
    {
     "data": {
      "text/plain": [
       "[<matplotlib.lines.Line2D at 0x7fa000f892b0>]"
      ]
     },
     "execution_count": 182,
     "metadata": {},
     "output_type": "execute_result"
    },
    {
     "data": {
      "image/png": "[encoded data removed]",
      "text/plain": [
       "<matplotlib.figure.Figure at 0x7fa000f89e48>"
      ]
     },
     "metadata": {},
     "output_type": "display_data"
    }
   ],
   "source": [
    "poly = np.polyfit([x for x, _ in enumerate(random_times)], random_times, 1)\n",
    "poly[1] = 0\n",
    "plt.plot([np.polyval(poly, x) for x in range(100)])\n",
    "plt.plot(random_times)"
   ]
  },
  {
   "cell_type": "code",
   "execution_count": 189,
   "metadata": {
    "collapsed": false,
    "deletable": true,
    "editable": true
   },
   "outputs": [
    {
     "data": {
      "text/plain": [
       "[<matplotlib.lines.Line2D at 0x7fa000eb9358>]"
      ]
     },
     "execution_count": 189,
     "metadata": {},
     "output_type": "execute_result"
    },
    {
     "data": {
      "image/png": "[encoded data removed]",
      "text/plain": [
       "<matplotlib.figure.Figure at 0x7fa000b6a898>"
      ]
     },
     "metadata": {},
     "output_type": "display_data"
    }
   ],
   "source": [
    "poly = np.polyfit([x for x, _ in enumerate(counter_times)], counter_times, 1)\n",
    "plt.plot([np.polyval(poly, x) for x in range(250)])\n",
    "plt.plot(counter_times)"
   ]
  },
  {
   "cell_type": "markdown",
   "metadata": {
    "deletable": true,
    "editable": true
   },
   "source": [
    "Since the problem of counting the letters in the soup is perfectly paralell we would get a linear speedup on the number of processors used. We just have to partition de data and give each partition to each processor, then coalesce all the results. This can be done with a map-reduce operation pretty easily, here is an example that uses all the cores in the executing computer. "
   ]
  },
  {
   "cell_type": "code",
   "execution_count": 14,
   "metadata": {
    "collapsed": false,
    "deletable": true,
    "editable": true
   },
   "outputs": [
    {
     "name": "stdout",
     "output_type": "stream",
     "text": [
      "4\n",
      "Counter({'a': 39389, 'i': 39334, 'f': 39332, 'b': 39300, 'j': 39290, 'u': 39218, 't': 39138, 'n': 39115, 'd': 39103, 'q': 39060, 'o': 39058, 'p': 39051, 'k': 39041, 'c': 39037, 's': 38997, 'v': 38991, 'm': 38950, 'h': 38948, 'l': 38943, 'g': 38922, 'e': 38818, 'r': 38786, 'x': 35097, 'z': 35068, 'w': 35049, 'y': 34965})\n",
      "Counter({'a': 39389, 'i': 39334, 'f': 39332, 'b': 39300, 'j': 39290, 'u': 39218, 't': 39138, 'n': 39115, 'd': 39103, 'q': 39060, 'o': 39058, 'p': 39051, 'k': 39041, 'c': 39037, 's': 38997, 'v': 38991, 'm': 38950, 'h': 38948, 'l': 38943, 'g': 38922, 'e': 38818, 'r': 38786, 'x': 35097, 'z': 35068, 'w': 35049, 'y': 34965})\n"
     ]
    }
   ],
   "source": [
    "from multiprocessing import Pool, cpu_count\n",
    "\n",
    "def chunks(l, n):\n",
    "    \"\"\"Yield successive n-sized chunks from l.\"\"\"\n",
    "    for i in range(0, len(l), n):\n",
    "        yield l[i:i + n]\n",
    "        \n",
    "M = 1000000\n",
    "bowl = get_str(M)\n",
    "\n",
    "def f(x):\n",
    "    return Counter(x)\n",
    "\n",
    "chunk_size = len(bowl) // cpu_count()\n",
    "        \n",
    "parts = Pool(N_CORES).map(f, list(chunks(bowl, chunk_size)))\n",
    "total_count = None\n",
    "for p in parts:\n",
    "    if total_count == None:\n",
    "        total_count = p\n",
    "    else:\n",
    "        total_count += p\n",
    "print(total_count)\n",
    "print(Counter(bowl))\n",
    "    "
   ]
  },
  {
   "cell_type": "code",
   "execution_count": 8,
   "metadata": {
    "collapsed": false,
    "deletable": true,
    "editable": true
   },
   "outputs": [
    {
     "data": {
      "text/plain": [
       "[[2, 3, 4], [5, 6, 7], [8, 3, 4], [5, 6, 7], [8, 3, 4], [5]]"
      ]
     },
     "execution_count": 8,
     "metadata": {},
     "output_type": "execute_result"
    }
   ],
   "source": [
    "def chunks(l, n):\n",
    "    \"\"\"Yield successive n-sized chunks from l.\"\"\"\n",
    "    for i in range(0, len(l), n):\n",
    "        yield l[i:i + n]\n",
    "\n",
    "a = [2, 3, 4, 5, 6, 7, 8, 3, 4, 5, 6, 7, 8, 3, 4, 5]\n",
    "\n",
    "list(chunks(a, 3))"
   ]
  },
  {
   "cell_type": "code",
   "execution_count": null,
   "metadata": {
    "collapsed": true,
    "deletable": true,
    "editable": true
   },
   "outputs": [],
   "source": []
  }
 ],
 "metadata": {
  "kernelspec": {
   "display_name": "Python 3",
   "language": "python",
   "name": "python3"
  },
  "language_info": {
   "codemirror_mode": {
    "name": "ipython",
    "version": 3
   },
   "file_extension": ".py",
   "mimetype": "text/x-python",
   "name": "python",
   "nbconvert_exporter": "python",
   "pygments_lexer": "ipython3",
   "version": "3.5.3"
  }
 },
 "nbformat": 4,
 "nbformat_minor": 2
}
